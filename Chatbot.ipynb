{
  "nbformat": 4,
  "nbformat_minor": 0,
  "metadata": {
    "colab": {
      "name": "Chatbot.ipynb",
      "provenance": [],
      "collapsed_sections": [],
      "authorship_tag": "ABX9TyPmR6TDvyA6PyxX+i1J/hiM",
      "include_colab_link": true
    },
    "kernelspec": {
      "name": "python3",
      "display_name": "Python 3"
    }
  },
  "cells": [
    {
      "cell_type": "markdown",
      "metadata": {
        "id": "view-in-github",
        "colab_type": "text"
      },
      "source": [
        "<a href=\"https://colab.research.google.com/github/Rajanm105/Chatbot/blob/master/Chatbot.ipynb\" target=\"_parent\"><img src=\"https://colab.research.google.com/assets/colab-badge.svg\" alt=\"Open In Colab\"/></a>"
      ]
    },
    {
      "cell_type": "markdown",
      "metadata": {
        "id": "Q8SrMBAruaRv",
        "colab_type": "text"
      },
      "source": [
        ""
      ]
    },
    {
      "cell_type": "code",
      "metadata": {
        "id": "1tsFNvr1uik1",
        "colab_type": "code",
        "colab": {}
      },
      "source": [
        "# pip install chatterbot"
      ],
      "execution_count": null,
      "outputs": []
    },
    {
      "cell_type": "code",
      "metadata": {
        "id": "_wctISYd0NK8",
        "colab_type": "code",
        "colab": {}
      },
      "source": [
        "# pip install chatterbot_corpus"
      ],
      "execution_count": null,
      "outputs": []
    },
    {
      "cell_type": "code",
      "metadata": {
        "id": "EEtqkcf0M0qr",
        "colab_type": "code",
        "colab": {}
      },
      "source": [
        "# pip install wikipedia"
      ],
      "execution_count": null,
      "outputs": []
    },
    {
      "cell_type": "code",
      "metadata": {
        "id": "C1K8qinv0kE0",
        "colab_type": "code",
        "colab": {}
      },
      "source": [
        "from chatterbot import ChatBot\n",
        "from chatterbot.trainers import ListTrainer\n",
        "import wikipedia"
      ],
      "execution_count": 18,
      "outputs": []
    },
    {
      "cell_type": "code",
      "metadata": {
        "id": "p9XRewZq0ziX",
        "colab_type": "code",
        "colab": {}
      },
      "source": [
        "my_bot = ChatBot(name='PyBot', read_only=True,\n",
        "                 logic_adapters=\n",
        "['chatterbot.logic.MathematicalEvaluation', 'chatterbot.logic.BestMatch'])"
      ],
      "execution_count": null,
      "outputs": []
    },
    {
      "cell_type": "code",
      "metadata": {
        "id": "vd4Fdk811UMW",
        "colab_type": "code",
        "colab": {}
      },
      "source": [
        "small_talk = ['hi there!',\n",
        "              'hi',\n",
        "              'how do you do?',\n",
        "              'how are you?',\n",
        "              'thank you',\n",
        "              'my pleasure',\n",
        "              'i am cool',\n",
        "              'fine, you?',\n",
        "              'always cool.',\n",
        "              'glad to hear that.',\n",
        "              'i\\m fine',\n",
        "              'glat to hear that.',\n",
        "              'i feel awesome',\n",
        "              'excellent, glad to hear that.',\n",
        "              'not so good',\n",
        "              'sorry to hear that.',\n",
        "              'what is your name?',\n",
        "              'i am a pybot. ask me a math question please.'\n",
        "              'did you heard about covid-19?',\n",
        "              'yes it is a dangerous disease',\n",
        "              'most common symptons of covid-19',\n",
        "              'most common symptoms: fever,dry cough,tiredness',\n",
        "              'serious symptons of covid-19',\n",
        "              'coronavirus serious  symptons: difficulty breathing or shortness of breath, chest pain or pressure, loss of speech or movement.',\n",
        "              'home remedies for fever',\n",
        "              'Fever can cause fluid loss and dehydration, so drink water, juices or broth. For a child under age 1, use an oral rehydration solution such as Pedialyte. These solutions contain water and salts proportioned to replenish fluids and electrolytes. Pedialyte ice pops also are available',\n",
        "              'home remedies for dry cough',\n",
        "              'Menthol cough drops. Menthol cough drops are available at most drugstores.A humidifier is a machine that adds moisture to the air. Dry air, which is common in heated homes, further aggravates inflamed throat tissue.']\n",
        "\n",
        "\n",
        "math_talk_1 = ['pythagorean theorem','a squared plus b squared equals c squared']\n",
        "\n",
        "math_talk_2 = ['law of cosines',\n",
        "               'c**2 = a**2 + b**2 - 2 * a * b * cos(gamma)']\n",
        "\n",
        "               "
      ],
      "execution_count": 73,
      "outputs": []
    },
    {
      "cell_type": "code",
      "metadata": {
        "id": "glyIbhVe28W-",
        "colab_type": "code",
        "colab": {}
      },
      "source": [
        "list_trainer = ListTrainer(my_bot)\n",
        "\n",
        "for item in (small_talk, math_talk_1, math_talk_2):\n",
        "    list_trainer.train(item)"
      ],
      "execution_count": null,
      "outputs": []
    },
    {
      "cell_type": "code",
      "metadata": {
        "id": "Aw2Lcp2jVZsI",
        "colab_type": "code",
        "colab": {}
      },
      "source": [
        "  def search(query):\n",
        "        result = wikipedia.summary(query)\n",
        "        print('Bot: ',result)"
      ],
      "execution_count": 75,
      "outputs": []
    },
    {
      "cell_type": "code",
      "metadata": {
        "id": "7ZdXCZSYQY78",
        "colab_type": "code",
        "colab": {}
      },
      "source": [
        "while True:\n",
        "  query = input('You: ')\n",
        "  if query == 'Bye':\n",
        "      print('Bot: Thank You for talking with me!')\n",
        "      break\n",
        "  elif query.endswith('?'):\n",
        "      search(query)    \n",
        "  else:  \n",
        "      response = my_bot.get_response(query)\n",
        "      print('Bot: ', response)"
      ],
      "execution_count": null,
      "outputs": []
    },
    {
      "cell_type": "code",
      "metadata": {
        "id": "nCApCykJ3Sht",
        "colab_type": "code",
        "colab": {}
      },
      "source": [
        ""
      ],
      "execution_count": null,
      "outputs": []
    }
  ]
}